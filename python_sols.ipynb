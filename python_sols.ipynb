{
 "cells": [
  {
   "cell_type": "code",
   "execution_count": 70,
   "id": "28614afb",
   "metadata": {},
   "outputs": [
    {
     "name": "stdout",
     "output_type": "stream",
     "text": [
      "17\n"
     ]
    }
   ],
   "source": [
    "a = 'ASDSVDfdsfdsvdKKsfdSDSVSVDFD'\n",
    "\n",
    "print(sum(1 for i in a if i.isupper()))"
   ]
  },
  {
   "cell_type": "code",
   "execution_count": 71,
   "id": "a330a9a5",
   "metadata": {},
   "outputs": [
    {
     "name": "stdout",
     "output_type": "stream",
     "text": [
      "True\n",
      "False\n"
     ]
    }
   ],
   "source": [
    "import re\n",
    "\n",
    "a = 'Hi, This is an example'\n",
    "b='^Hi'\n",
    "\n",
    "c= 'This'\n",
    "\n",
    "print(bool(re.match(b,a))) # Correct match\n",
    "print(bool(re.match(c,a))) # Mismatch"
   ]
  },
  {
   "cell_type": "code",
   "execution_count": 75,
   "id": "ca28f041",
   "metadata": {},
   "outputs": [
    {
     "data": {
      "text/html": [
       "<div>\n",
       "<style scoped>\n",
       "    .dataframe tbody tr th:only-of-type {\n",
       "        vertical-align: middle;\n",
       "    }\n",
       "\n",
       "    .dataframe tbody tr th {\n",
       "        vertical-align: top;\n",
       "    }\n",
       "\n",
       "    .dataframe thead th {\n",
       "        text-align: right;\n",
       "    }\n",
       "</style>\n",
       "<table border=\"1\" class=\"dataframe\">\n",
       "  <thead>\n",
       "    <tr style=\"text-align: right;\">\n",
       "      <th></th>\n",
       "      <th>FirstName</th>\n",
       "      <th>LastName</th>\n",
       "      <th>Age</th>\n",
       "      <th>Gender</th>\n",
       "    </tr>\n",
       "  </thead>\n",
       "  <tbody>\n",
       "    <tr>\n",
       "      <th>0</th>\n",
       "      <td>1stFirstName</td>\n",
       "      <td>1stLastName</td>\n",
       "      <td>10</td>\n",
       "      <td>M</td>\n",
       "    </tr>\n",
       "    <tr>\n",
       "      <th>1</th>\n",
       "      <td>2ndFirstName</td>\n",
       "      <td>2ndLastName</td>\n",
       "      <td>13</td>\n",
       "      <td>F</td>\n",
       "    </tr>\n",
       "  </tbody>\n",
       "</table>\n",
       "</div>"
      ],
      "text/plain": [
       "      FirstName     LastName  Age Gender\n",
       "0  1stFirstName  1stLastName   10      M\n",
       "1  2ndFirstName  2ndLastName   13      F"
      ]
     },
     "execution_count": 75,
     "metadata": {},
     "output_type": "execute_result"
    }
   ],
   "source": [
    "import pandas as pd\n",
    "from io import StringIO\n",
    "\n",
    "# Provide the file path to your CSV file\n",
    "file_path = r'C:\\Users\\Futurense\\Downloads\\test.csv'\n",
    "\n",
    "with open(file_path, 'r', encoding='utf-8') as file:\n",
    "    modified_content = file.read().replace('“', '').replace('”', '')\n",
    "\n",
    "df = pd.read_csv(StringIO(modified_content))\n",
    "\n",
    "# Display the DataFrame\n",
    "df.head()"
   ]
  },
  {
   "cell_type": "code",
   "execution_count": 76,
   "id": "0dda41b1",
   "metadata": {},
   "outputs": [
    {
     "name": "stdout",
     "output_type": "stream",
     "text": [
      "4 {1, 2, 3, 4}\n"
     ]
    }
   ],
   "source": [
    "L = [1, 2, 1, 3, 4, 2, 3]\n",
    "print(len(set(L)), set (L))\n",
    "    "
   ]
  },
  {
   "cell_type": "code",
   "execution_count": 77,
   "id": "a3acb947",
   "metadata": {
    "scrolled": true
   },
   "outputs": [
    {
     "data": {
      "text/plain": [
       "'{\"FirstName\":{\"0\":\"1stFirstName\",\"1\":\"2ndFirstName\"},\"LastName\":{\"0\":\"1stLastName\",\"1\":\"2ndLastName\"},\"Age\":{\"0\":10,\"1\":13},\"Gender\":{\"0\":\"M\",\"1\":\"F\"}}'"
      ]
     },
     "execution_count": 77,
     "metadata": {},
     "output_type": "execute_result"
    }
   ],
   "source": [
    "df.to_json()"
   ]
  },
  {
   "cell_type": "code",
   "execution_count": 81,
   "id": "9237e8dc",
   "metadata": {},
   "outputs": [],
   "source": [
    "input_json = {\n",
    "    \"users\": [\n",
    "        {\n",
    "            \"id\": 1,\n",
    "            \"name\": \"ram\",\n",
    "            \"dob\": \"1980-01-10\",\n",
    "            \"age\": 39,\n",
    "            \"qualifications\": [\"BE\", \"MBA\"]\n",
    "        },\n",
    "        {\n",
    "            \"id\": 2,\n",
    "            \"name\": \"sita\",\n",
    "            \"dob\": \"1990-01-10\",\n",
    "            \"age\": 29,\n",
    "            \"qualifications\": [\"MBBS\", \"MD\"]\n",
    "        }\n",
    "    ]\n",
    "}\n",
    "\n",
    "output = {\"users\":[]}\n",
    "for i in input_json[\"users\"]:\n",
    "    for j in i[\"qualifications\"]:\n",
    "        a = {\n",
    "            \"id\" : i[\"id\"],\n",
    "            \"name\": i[\"name\"],\n",
    "            \"dob\":i[\"dob\"],\n",
    "            \"age\":i[\"age\"],\n",
    "            \"qualifications\" : j\n",
    "        }\n",
    "        output[\"users\"].append(a)\n"
   ]
  },
  {
   "cell_type": "code",
   "execution_count": 80,
   "id": "d435e80b",
   "metadata": {},
   "outputs": [
    {
     "data": {
      "text/plain": [
       "{'users': [{'id': 1,\n",
       "   'name': 'ram',\n",
       "   'dob': '1980-01-10',\n",
       "   'age': 39,\n",
       "   'qualifications': 'BE'},\n",
       "  {'id': 1,\n",
       "   'name': 'ram',\n",
       "   'dob': '1980-01-10',\n",
       "   'age': 39,\n",
       "   'qualifications': 'MBA'},\n",
       "  {'id': 2,\n",
       "   'name': 'sita',\n",
       "   'dob': '1990-01-10',\n",
       "   'age': 29,\n",
       "   'qualifications': 'MBBS'},\n",
       "  {'id': 2,\n",
       "   'name': 'sita',\n",
       "   'dob': '1990-01-10',\n",
       "   'age': 29,\n",
       "   'qualifications': 'MD'}]}"
      ]
     },
     "execution_count": 80,
     "metadata": {},
     "output_type": "execute_result"
    }
   ],
   "source": [
    "output"
   ]
  },
  {
   "cell_type": "code",
   "execution_count": 86,
   "id": "08530dc5",
   "metadata": {},
   "outputs": [
    {
     "data": {
      "text/html": [
       "<div>\n",
       "<style scoped>\n",
       "    .dataframe tbody tr th:only-of-type {\n",
       "        vertical-align: middle;\n",
       "    }\n",
       "\n",
       "    .dataframe tbody tr th {\n",
       "        vertical-align: top;\n",
       "    }\n",
       "\n",
       "    .dataframe thead th {\n",
       "        text-align: right;\n",
       "    }\n",
       "</style>\n",
       "<table border=\"1\" class=\"dataframe\">\n",
       "  <thead>\n",
       "    <tr style=\"text-align: right;\">\n",
       "      <th></th>\n",
       "      <th>id</th>\n",
       "      <th>name</th>\n",
       "      <th>dob</th>\n",
       "      <th>age</th>\n",
       "      <th>qualifications</th>\n",
       "    </tr>\n",
       "  </thead>\n",
       "  <tbody>\n",
       "    <tr>\n",
       "      <th>0</th>\n",
       "      <td>1</td>\n",
       "      <td>ram</td>\n",
       "      <td>1980-01-10</td>\n",
       "      <td>39</td>\n",
       "      <td>BE</td>\n",
       "    </tr>\n",
       "    <tr>\n",
       "      <th>1</th>\n",
       "      <td>1</td>\n",
       "      <td>ram</td>\n",
       "      <td>1980-01-10</td>\n",
       "      <td>39</td>\n",
       "      <td>MBA</td>\n",
       "    </tr>\n",
       "    <tr>\n",
       "      <th>2</th>\n",
       "      <td>2</td>\n",
       "      <td>sita</td>\n",
       "      <td>1990-01-10</td>\n",
       "      <td>29</td>\n",
       "      <td>MBBS</td>\n",
       "    </tr>\n",
       "    <tr>\n",
       "      <th>3</th>\n",
       "      <td>2</td>\n",
       "      <td>sita</td>\n",
       "      <td>1990-01-10</td>\n",
       "      <td>29</td>\n",
       "      <td>MD</td>\n",
       "    </tr>\n",
       "  </tbody>\n",
       "</table>\n",
       "</div>"
      ],
      "text/plain": [
       "   id  name         dob  age qualifications\n",
       "0   1   ram  1980-01-10   39             BE\n",
       "1   1   ram  1980-01-10   39            MBA\n",
       "2   2  sita  1990-01-10   29           MBBS\n",
       "3   2  sita  1990-01-10   29             MD"
      ]
     },
     "execution_count": 86,
     "metadata": {},
     "output_type": "execute_result"
    }
   ],
   "source": [
    "df1 = pd.DataFrame(output[\"users\"])\n",
    "df1"
   ]
  },
  {
   "cell_type": "code",
   "execution_count": null,
   "id": "00c38575",
   "metadata": {},
   "outputs": [],
   "source": []
  }
 ],
 "metadata": {
  "kernelspec": {
   "display_name": "Python 3 (ipykernel)",
   "language": "python",
   "name": "python3"
  },
  "language_info": {
   "codemirror_mode": {
    "name": "ipython",
    "version": 3
   },
   "file_extension": ".py",
   "mimetype": "text/x-python",
   "name": "python",
   "nbconvert_exporter": "python",
   "pygments_lexer": "ipython3",
   "version": "3.10.9"
  }
 },
 "nbformat": 4,
 "nbformat_minor": 5
}
